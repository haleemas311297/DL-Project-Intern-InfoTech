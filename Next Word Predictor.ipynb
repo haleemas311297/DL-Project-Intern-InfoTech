{
 "cells": [
  {
   "cell_type": "markdown",
   "metadata": {},
   "source": [
    "DATA EXPLORATION"
   ]
  },
  {
   "cell_type": "code",
   "execution_count": 4,
   "metadata": {},
   "outputs": [],
   "source": [
    "import numpy as np\n",
    "from keras_preprocessing.text import Tokenizer\n",
    "from keras_preprocessing.sequence import pad_sequences\n",
    "from keras.utils import to_categorical\n",
    "\n",
    "# Load the dataset\n",
    "with open(r\"C:\\Users\\Mega Computer\\Desktop\\Data Science Internship\\DL\\Next word predictor\\Sherlock Holmes Dataset.txt\", 'r', encoding='utf-8') as file:\n",
    "    text = file.read().lower()\n",
    "\n",
    "# Tokenize the text\n",
    "tokenizer = Tokenizer()\n",
    "tokenizer.fit_on_texts([text])\n",
    "\n",
    "# Convert text to sequences of integers\n",
    "sequences = tokenizer.texts_to_sequences([text])[0]\n",
    "\n",
    "# Define sequence length\n",
    "SEQUENCE_LENGTH = 5  # You can adjust this value\n",
    "\n",
    "# Create input-output pairs\n",
    "X = []\n",
    "Y = []\n",
    "\n",
    "for i in range(SEQUENCE_LENGTH, len(sequences)):\n",
    "    X.append(sequences[i-SEQUENCE_LENGTH:i])\n",
    "    Y.append(sequences[i])\n",
    "\n",
    "X = np.array(X)\n",
    "Y = to_categorical(Y, num_classes=len(tokenizer.word_index) + 1)"
   ]
  },
  {
   "cell_type": "markdown",
   "metadata": {},
   "source": [
    "DATA PREPROCESSING, MODEL ARCHITECTURE & TRAINING"
   ]
  },
  {
   "cell_type": "code",
   "execution_count": 18,
   "metadata": {},
   "outputs": [
    {
     "name": "stdout",
     "output_type": "stream",
     "text": [
      "Shape of X: (60, 5)\n",
      "Shape of Y: (60, 47)\n",
      "Number of classes: 47\n",
      "Epoch 1/10\n"
     ]
    },
    {
     "name": "stderr",
     "output_type": "stream",
     "text": [
      "c:\\Users\\Mega Computer\\AppData\\Local\\Programs\\Python\\Python312\\Lib\\site-packages\\keras\\src\\layers\\core\\embedding.py:90: UserWarning: Argument `input_length` is deprecated. Just remove it.\n",
      "  warnings.warn(\n"
     ]
    },
    {
     "name": "stdout",
     "output_type": "stream",
     "text": [
      "\u001b[1m2/2\u001b[0m \u001b[32m━━━━━━━━━━━━━━━━━━━━\u001b[0m\u001b[37m\u001b[0m \u001b[1m3s\u001b[0m 333ms/step - accuracy: 0.0000e+00 - loss: 3.8502 - val_accuracy: 0.0000e+00 - val_loss: 3.8519\n",
      "Epoch 2/10\n",
      "\u001b[1m2/2\u001b[0m \u001b[32m━━━━━━━━━━━━━━━━━━━━\u001b[0m\u001b[37m\u001b[0m \u001b[1m0s\u001b[0m 34ms/step - accuracy: 0.0721 - loss: 3.8445 - val_accuracy: 0.0000e+00 - val_loss: 3.8539\n",
      "Epoch 3/10\n",
      "\u001b[1m2/2\u001b[0m \u001b[32m━━━━━━━━━━━━━━━━━━━━\u001b[0m\u001b[37m\u001b[0m \u001b[1m0s\u001b[0m 88ms/step - accuracy: 0.1385 - loss: 3.8384 - val_accuracy: 0.0000e+00 - val_loss: 3.8561\n",
      "Epoch 4/10\n",
      "\u001b[1m2/2\u001b[0m \u001b[32m━━━━━━━━━━━━━━━━━━━━\u001b[0m\u001b[37m\u001b[0m \u001b[1m0s\u001b[0m 37ms/step - accuracy: 0.1424 - loss: 3.8346 - val_accuracy: 0.0000e+00 - val_loss: 3.8585\n",
      "Epoch 5/10\n",
      "\u001b[1m2/2\u001b[0m \u001b[32m━━━━━━━━━━━━━━━━━━━━\u001b[0m\u001b[37m\u001b[0m \u001b[1m0s\u001b[0m 37ms/step - accuracy: 0.2068 - loss: 3.8273 - val_accuracy: 0.0000e+00 - val_loss: 3.8610\n",
      "Epoch 6/10\n",
      "\u001b[1m2/2\u001b[0m \u001b[32m━━━━━━━━━━━━━━━━━━━━\u001b[0m\u001b[37m\u001b[0m \u001b[1m0s\u001b[0m 51ms/step - accuracy: 0.1860 - loss: 3.8229 - val_accuracy: 0.0000e+00 - val_loss: 3.8637\n",
      "Epoch 7/10\n",
      "\u001b[1m2/2\u001b[0m \u001b[32m━━━━━━━━━━━━━━━━━━━━\u001b[0m\u001b[37m\u001b[0m \u001b[1m0s\u001b[0m 47ms/step - accuracy: 0.1860 - loss: 3.8159 - val_accuracy: 0.0000e+00 - val_loss: 3.8667\n",
      "Epoch 8/10\n",
      "\u001b[1m2/2\u001b[0m \u001b[32m━━━━━━━━━━━━━━━━━━━━\u001b[0m\u001b[37m\u001b[0m \u001b[1m0s\u001b[0m 44ms/step - accuracy: 0.2068 - loss: 3.8087 - val_accuracy: 0.0000e+00 - val_loss: 3.8701\n",
      "Epoch 9/10\n",
      "\u001b[1m2/2\u001b[0m \u001b[32m━━━━━━━━━━━━━━━━━━━━\u001b[0m\u001b[37m\u001b[0m \u001b[1m0s\u001b[0m 49ms/step - accuracy: 0.1424 - loss: 3.8024 - val_accuracy: 0.0000e+00 - val_loss: 3.8741\n",
      "Epoch 10/10\n",
      "\u001b[1m2/2\u001b[0m \u001b[32m━━━━━━━━━━━━━━━━━━━━\u001b[0m\u001b[37m\u001b[0m \u001b[1m0s\u001b[0m 31ms/step - accuracy: 0.1632 - loss: 3.7889 - val_accuracy: 0.0000e+00 - val_loss: 3.8789\n"
     ]
    }
   ],
   "source": [
    "\n",
    "from keras.models import Sequential\n",
    "from keras.layers import Embedding, LSTM, Dense\n",
    "\n",
    "# Example text\n",
    "text = \"His manner was not effusive. It seldom was; but he was glad, I think, to see me. With hardly a word spoken, but with a kindly eye, he waved me to an armchair, threw across his case of cigars, and indicated a spirit case and a gasogene in the corner. Then he stood before the fire and looked me over in his singular introspective fashion.\"\n",
    "\n",
    "# Tokenize the text\n",
    "tokenizer = Tokenizer()\n",
    "tokenizer.fit_on_texts([text])\n",
    "sequences = tokenizer.texts_to_sequences([text])[0]\n",
    "\n",
    "# Set sequence length\n",
    "SEQUENCE_LENGTH = 5\n",
    "\n",
    "# Create input-output pairs\n",
    "X = []\n",
    "Y = []\n",
    "\n",
    "for i in range(SEQUENCE_LENGTH, len(sequences)):\n",
    "    X.append(sequences[i-SEQUENCE_LENGTH:i])\n",
    "    Y.append(sequences[i])\n",
    "\n",
    "X = np.array(X)\n",
    "Y = to_categorical(Y, num_classes=len(tokenizer.word_index) + 1)\n",
    "\n",
    "# Debugging prints\n",
    "print(\"Shape of X:\", X.shape)\n",
    "print(\"Shape of Y:\", Y.shape)\n",
    "print(\"Number of classes:\", len(tokenizer.word_index) + 1)\n",
    "\n",
    "# Define the model\n",
    "model = Sequential()\n",
    "model.add(Embedding(input_dim=len(tokenizer.word_index) + 1, output_dim=50, input_length=SEQUENCE_LENGTH))\n",
    "model.add(LSTM(100, return_sequences=False))\n",
    "model.add(Dense(len(tokenizer.word_index) + 1, activation='softmax'))\n",
    "\n",
    "# Compile the model\n",
    "model.compile(loss='categorical_crossentropy', optimizer='adam', metrics=['accuracy'])\n",
    "\n",
    "# Train the model\n",
    "history = model.fit(X, Y, epochs=10, batch_size=32, validation_split=0.1, verbose=1)"
   ]
  },
  {
   "cell_type": "markdown",
   "metadata": {},
   "source": [
    "EVALUATION"
   ]
  },
  {
   "cell_type": "code",
   "execution_count": null,
   "metadata": {},
   "outputs": [],
   "source": [
    "def predict_next_word(model, tokenizer, text_seq, sequence_length):\n",
    "    # Tokenize the input sequence\n",
    "    input_seq = tokenizer.texts_to_sequences([text_seq])[0]\n",
    "    input_seq = pad_sequences([input_seq], maxlen=sequence_length, truncating='pre')\n",
    "    \n",
    "    # Predict the next word\n",
    "    predicted_word_index = np.argmax(model.predict(input_seq), axis=-1)\n",
    "    \n",
    "    # Convert the predicted index back to a word\n",
    "    for word, index in tokenizer.word_index.items():\n",
    "        if index == predicted_word_index:\n",
    "            return word\n",
    "\n",
    "# Example usage: Test on specific sequence from your dataset\n",
    "input_text = \"With hardly a word \"\n",
    "predicted_word = predict_next_word(model, tokenizer, input_text, SEQUENCE_LENGTH)\n",
    "print(f\"Predicted next word: {predicted_word}\")"
   ]
  }
 ],
 "metadata": {
  "kernelspec": {
   "display_name": "Python 3",
   "language": "python",
   "name": "python3"
  },
  "language_info": {
   "codemirror_mode": {
    "name": "ipython",
    "version": 3
   },
   "file_extension": ".py",
   "mimetype": "text/x-python",
   "name": "python",
   "nbconvert_exporter": "python",
   "pygments_lexer": "ipython3",
   "version": "3.12.5"
  }
 },
 "nbformat": 4,
 "nbformat_minor": 2
}
